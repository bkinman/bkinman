{
 "cells": [
  {
   "cell_type": "markdown",
   "metadata": {},
   "source": [
    "## Cryptography 1 - Week 4 Programming Assignment \n",
    "###Brandon Kinman, 5/29/2015###\n",
    "\n",
    "###Problem Description\n",
    "\n",
    "Suppose an attacker wishes to steal secret information from our target web site crypto-class.appspot.com. The attacker suspects that the web site embeds encrypted customer data in URL parameters such as this:\n",
    "\n",
    "http://crypto-class.appspot.com/po?er=f20bdba6ff29eed7b046d1df9fb7000058b1ffb4210a580f748b4ac714c001bd4a61044426fb515dad3f21f18aa577c0bdf302936266926ff37dbf7035d5eeb4\n",
    "\n",
    "That is, when customer Alice interacts with the site, the site embeds a URL like this in web pages it sends to Alice. The attacker intercepts the URL listed above and guesses that the ciphertext following the \"po?er=\" is a hex encoded AES CBC encryption with a random IV of some secret data about Alice's session.\n",
    "\n",
    "After some experimentation the attacker discovers that the web site is vulnerable to a CBC padding oracle attack. In particular, when a decrypted CBC ciphertext ends in an invalid pad the web server returns a 403 error code (forbidden request). When the CBC padding is valid, but the message is malformed, the web server returns a 404 error code (URL not found).\n",
    "\n",
    "Armed with this information your goal is to decrypt the ciphertext listed above. To do so you can send arbitrary HTTP requests to the web site of the form\n",
    "\n",
    "http://crypto-class.appspot.com/po?er=\"your ciphertext here\"\n",
    "\n",
    "and observe the resulting error code. The padding oracle will let you decrypt the given ciphertext one byte at a time. To decrypt a single byte you will need to send up to 256 HTTP requests to the site. Keep in mind that the first ciphertext block is the random IV. The decrypted message is ASCII encoded.\n",
    "\n",
    "###Solution\n",
    "This solution is based uopn an example script given to us by profressor Boneh."
   ]
  },
  {
   "cell_type": "code",
   "execution_count": 10,
   "metadata": {
    "collapsed": false
   },
   "outputs": [
    {
     "name": "stdout",
     "output_type": "stream",
     "text": [
      "chainbytes:\tc0\n",
      "pad:\t01\n",
      "guess:\t00\n",
      "XORED:\tc1\n",
      "query:\tbdf302936266926ff37dbf7035d5eec1\n",
      ". . . . . . . . . . . . . . . . . . . . . . . . . . . . . . . . . . . . . . . . . . . . . . . . . . . . . . . . . . . . . . . \n",
      " Plaintext recovered:3e\n",
      "chainbytes:\t77c0\n",
      "pad:\t0202\n",
      "guess:\t003e\n",
      "XORED:\t75fc\n",
      "query:\tbdf302936266926ff37dbf7035d575fc\n",
      ". . . . . . . . . . . . . . . . . . . . . . . . . . . . . . . . . . . . . . . . . . . . . . . . . . . . . . . . . . . . . . . . . . . . . . . . . . . . . . . . . . . . . . . . . . . . . . . . . . . . . . . . . . . . . . . . . . . . . . . . . . . . . . . . . . . . . . . . . . . . . . . . . . . . . . . . . . . . . . . . . . . . . . . . . . . . . . . . . . . . . . . . . . . . . . . . . . . . . . . . . . . . . . . . . . . . . . . . . . . . . . . . . . . . . . . . . . . . . . . . . . . . . . . . . . . . . . . . chainbytes:\ta577c0\n",
      "pad:\t030303\n",
      "guess:\t003e\n",
      "XORED:\ta64a\n",
      "query:\tbdf302936266926ff37dbf7035d5a64a\n",
      ". . . . . . . . . . . . . . . . . . . . . . . . . . . . . . . . . . . . . . . . . . . . . . . . . . . . . . . . . . . . . . . . . . . . . . . . . . . . . . . . . . . . . . . . . . . . . . . . . . . . . . . . . . . . . . . . . . . . . . . . . \n",
      " Plaintext recovered:78\n",
      "chainbytes:\t8aa577c0\n",
      "pad:\t04040404\n",
      "guess:\t00783e\n",
      "XORED:\t8ed94d\n",
      "query:\tbdf302936266926ff37dbf70358ed94d\n",
      "chainbytes:\tf18aa577c0\n",
      "pad:\t0505050505\n",
      "guess:\t00783e\n",
      "XORED:\tf4f79e\n",
      "query:\tbdf302936266926ff37dbf7035f4f79e\n",
      "chainbytes:\t21f18aa577c0\n",
      "pad:\t060606060606\n",
      "guess:\t00783e\n",
      "XORED:\t278fb2\n",
      "query:\tbdf302936266926ff37dbf7035278fb2\n",
      "chainbytes:\t3f21f18aa577c0\n",
      "pad:\t07070707070707\n",
      "guess:\t00783e\n",
      "XORED:\t385ec8\n",
      "query:\tbdf302936266926ff37dbf7035385ec8\n",
      "chainbytes:\tad3f21f18aa577c0\n",
      "pad:\t0808080808080808\n",
      "guess:\t00783e\n",
      "XORED:\ta54f17\n",
      "query:\tbdf302936266926ff37dbf7035a54f17\n",
      "chainbytes:\t5dad3f21f18aa577c0\n",
      "pad:\t090909090909090909\n",
      "guess:\t00783e\n",
      "XORED:\t54dc08\n",
      "query:\tbdf302936266926ff37dbf703554dc08\n",
      "chainbytes:\t515dad3f21f18aa577c0\n",
      "pad:\t0a0a0a0a0a0a0a0a0a0a\n",
      "guess:\t00783e\n",
      "XORED:\t5b2f99\n",
      "query:\tbdf302936266926ff37dbf70355b2f99\n",
      "chainbytes:\tfb515dad3f21f18aa577c0\n",
      "pad:\t0b0b0b0b0b0b0b0b0b0b0b\n",
      "guess:\t00783e\n",
      "XORED:\tf02268\n",
      "query:\tbdf302936266926ff37dbf7035f02268\n",
      "chainbytes:\t26fb515dad3f21f18aa577c0\n",
      "pad:\t0c0c0c0c0c0c0c0c0c0c0c0c\n",
      "guess:\t00783e\n",
      "XORED:\t2a8f63\n",
      "query:\tbdf302936266926ff37dbf70352a8f63\n",
      "chainbytes:\t4426fb515dad3f21f18aa577c0\n",
      "pad:\t0d0d0d0d0d0d0d0d0d0d0d0d0d\n",
      "guess:\t00783e\n",
      "XORED:\t4953c8\n",
      "query:\tbdf302936266926ff37dbf70354953c8\n",
      "chainbytes:\t044426fb515dad3f21f18aa577c0\n",
      "pad:\t0e0e0e0e0e0e0e0e0e0e0e0e0e0e\n",
      "guess:\t00783e\n",
      "XORED:\t0a3216\n",
      "query:\tbdf302936266926ff37dbf70350a3216\n",
      "chainbytes:\t61044426fb515dad3f21f18aa577c0\n",
      "pad:\t0f0f0f0f0f0f0f0f0f0f0f0f0f0f0f\n",
      "guess:\t00783e\n",
      "XORED:\t6e7375\n",
      "query:\tbdf302936266926ff37dbf70356e7375\n",
      "chainbytes:\t4a61044426fb515dad3f21f18aa577c0\n",
      "pad:\t10101010101010101010101010101010\n",
      "guess:\t00783e\n",
      "XORED:\t5a092a\n",
      "query:\tbdf302936266926ff37dbf70355a092a\n",
      "chainbytes:\tbd\n",
      "pad:\t01\n",
      "guess:\t00783e\n",
      "XORED:\tbc\n",
      "query:\tbdf302936266926ff37dbf7035d5eebc\n",
      "chainbytes:\t01bd\n",
      "pad:\t0202\n",
      "guess:\t00783e\n",
      "XORED:\t03c7\n",
      "query:\tbdf302936266926ff37dbf7035d503c7\n",
      "chainbytes:\tc001bd\n",
      "pad:\t030303\n",
      "guess:\t00783e\n",
      "XORED:\tc37a80\n",
      "query:\tbdf302936266926ff37dbf7035c37a80\n",
      "chainbytes:\t14c001bd\n",
      "pad:\t04040404\n",
      "guess:\t00783e\n",
      "XORED:\t10bc3b\n",
      "query:\tbdf302936266926ff37dbf703510bc3b\n",
      "chainbytes:\tc714c001bd\n",
      "pad:\t0505050505\n",
      "guess:\t00783e\n",
      "XORED:\tc269fb\n",
      "query:\tbdf302936266926ff37dbf7035c269fb\n",
      "chainbytes:\t4ac714c001bd\n",
      "pad:\t060606060606\n",
      "guess:\t00783e\n",
      "XORED:\t4cb92c\n",
      "query:\tbdf302936266926ff37dbf70354cb92c\n",
      "chainbytes:\t8b4ac714c001bd\n",
      "pad:\t07070707070707\n",
      "guess:\t00783e\n",
      "XORED:\t8c35fe\n",
      "query:\tbdf302936266926ff37dbf70358c35fe\n",
      "chainbytes:\t748b4ac714c001bd\n",
      "pad:\t0808080808080808\n",
      "guess:\t00783e\n",
      "XORED:\t7cfb7c\n",
      "query:\tbdf302936266926ff37dbf70357cfb7c\n",
      "chainbytes:\t0f748b4ac714c001bd\n",
      "pad:\t090909090909090909\n",
      "guess:\t00783e\n",
      "XORED:\t0605bc\n",
      "query:\tbdf302936266926ff37dbf70350605bc\n",
      "chainbytes:\t580f748b4ac714c001bd\n",
      "pad:\t0a0a0a0a0a0a0a0a0a0a\n",
      "guess:\t00783e\n",
      "XORED:\t527d40\n",
      "query:\tbdf302936266926ff37dbf7035527d40\n",
      "chainbytes:\t0a580f748b4ac714c001bd\n",
      "pad:\t0b0b0b0b0b0b0b0b0b0b0b\n",
      "guess:\t00783e\n",
      "XORED:\t012b3a\n",
      "query:\tbdf302936266926ff37dbf7035012b3a\n",
      "chainbytes:\t210a580f748b4ac714c001bd\n",
      "pad:\t0c0c0c0c0c0c0c0c0c0c0c0c\n",
      "guess:\t00783e\n",
      "XORED:\t2d7e6a\n",
      "query:\tbdf302936266926ff37dbf70352d7e6a\n",
      "chainbytes:\tb4210a580f748b4ac714c001bd\n",
      "pad:\t0d0d0d0d0d0d0d0d0d0d0d0d0d\n",
      "guess:\t00783e\n",
      "XORED:\tb95439\n",
      "query:\tbdf302936266926ff37dbf7035b95439\n",
      "chainbytes:\tffb4210a580f748b4ac714c001bd\n",
      "pad:\t0e0e0e0e0e0e0e0e0e0e0e0e0e0e\n",
      "guess:\t00783e\n",
      "XORED:\tf1c211\n",
      "query:\tbdf302936266926ff37dbf7035f1c211\n",
      "chainbytes:\tb1ffb4210a580f748b4ac714c001bd\n",
      "pad:\t0f0f0f0f0f0f0f0f0f0f0f0f0f0f0f\n",
      "guess:\t00783e\n",
      "XORED:\tbe8885\n",
      "query:\tbdf302936266926ff37dbf7035be8885\n",
      "chainbytes:\t58b1ffb4210a580f748b4ac714c001bd\n",
      "pad:\t10101010101010101010101010101010\n",
      "guess:\t00783e\n",
      "XORED:\t48d9d1\n",
      "query:\tbdf302936266926ff37dbf703548d9d1\n",
      "chainbytes:\t00\n",
      "pad:\t01\n",
      "guess:\t00783e\n",
      "XORED:\t01\n",
      "query:\tbdf302936266926ff37dbf7035d5ee01\n",
      "chainbytes:\t0000\n",
      "pad:\t0202\n",
      "guess:\t00783e\n",
      "XORED:\t027a\n",
      "query:\tbdf302936266926ff37dbf7035d5027a\n",
      "chainbytes:\tb70000\n",
      "pad:\t030303\n",
      "guess:\t00783e\n",
      "XORED:\tb47b3d\n",
      "query:\tbdf302936266926ff37dbf7035b47b3d\n",
      "chainbytes:\t9fb70000\n",
      "pad:\t04040404\n",
      "guess:\t00783e\n",
      "XORED:\t9bcb3a\n",
      "query:\tbdf302936266926ff37dbf70359bcb3a\n",
      "chainbytes:\tdf9fb70000\n",
      "pad:\t0505050505\n",
      "guess:\t00783e\n",
      "XORED:\tdae28c\n",
      "query:\tbdf302936266926ff37dbf7035dae28c\n",
      "chainbytes:\td1df9fb70000\n",
      "pad:\t060606060606\n",
      "guess:\t00783e\n",
      "XORED:\td7a1a7\n",
      "query:\tbdf302936266926ff37dbf7035d7a1a7\n",
      "chainbytes:\t46d1df9fb70000\n",
      "pad:\t07070707070707\n",
      "guess:\t00783e\n",
      "XORED:\t41aee6\n",
      "query:\tbdf302936266926ff37dbf703541aee6\n",
      "chainbytes:\tb046d1df9fb70000\n",
      "pad:\t0808080808080808\n",
      "guess:\t00783e\n",
      "XORED:\tb836e7\n",
      "query:\tbdf302936266926ff37dbf7035b836e7\n",
      "chainbytes:\td7b046d1df9fb70000\n",
      "pad:\t090909090909090909\n",
      "guess:\t00783e\n",
      "XORED:\tdec171\n",
      "query:\tbdf302936266926ff37dbf7035dec171\n",
      "chainbytes:\teed7b046d1df9fb70000\n",
      "pad:\t0a0a0a0a0a0a0a0a0a0a\n",
      "guess:\t00783e\n",
      "XORED:\te4a584\n",
      "query:\tbdf302936266926ff37dbf7035e4a584\n",
      "chainbytes:\t29eed7b046d1df9fb70000\n",
      "pad:\t0b0b0b0b0b0b0b0b0b0b0b\n",
      "guess:\t00783e\n",
      "XORED:\t229de2\n",
      "query:\tbdf302936266926ff37dbf7035229de2\n",
      "chainbytes:\tff29eed7b046d1df9fb70000\n",
      "pad:\t0c0c0c0c0c0c0c0c0c0c0c0c\n",
      "guess:\t00783e\n",
      "XORED:\tf35ddc\n",
      "query:\tbdf302936266926ff37dbf7035f35ddc\n",
      "chainbytes:\ta6ff29eed7b046d1df9fb70000\n",
      "pad:\t0d0d0d0d0d0d0d0d0d0d0d0d0d\n",
      "guess:\t00783e\n",
      "XORED:\tab8a1a\n",
      "query:\tbdf302936266926ff37dbf7035ab8a1a\n",
      "chainbytes:\tdba6ff29eed7b046d1df9fb70000\n",
      "pad:\t0e0e0e0e0e0e0e0e0e0e0e0e0e0e\n",
      "guess:\t00783e\n",
      "XORED:\td5d0cf\n",
      "query:\tbdf302936266926ff37dbf7035d5d0cf\n",
      "chainbytes:\t0bdba6ff29eed7b046d1df9fb70000\n",
      "pad:\t0f0f0f0f0f0f0f0f0f0f0f0f0f0f0f\n",
      "guess:\t00783e\n",
      "XORED:\t04ac97\n",
      "query:\tbdf302936266926ff37dbf703504ac97\n",
      "chainbytes:\tf20bdba6ff29eed7b046d1df9fb70000\n",
      "pad:\t10101010101010101010101010101010\n",
      "guess:\t00783e\n",
      "XORED:\te263f5\n",
      "query:\tbdf302936266926ff37dbf7035e263f5\n"
     ]
    }
   ],
   "source": [
    "import urllib2\n",
    "import sys\n",
    "import array\n",
    "\n",
    "TARGET = 'http://crypto-class.appspot.com/po?er='\n",
    "BLOCK_SIZE = 16\n",
    "ctString = 'f20bdba6ff29eed7b046d1df9fb7000058b1ffb4210a580f748b4ac714c001bd4a61044426fb515dad3f21f18aa577c0bdf302936266926ff37dbf7035d5eeb4'\n",
    "ct = ctString.decode('hex')\n",
    "\n",
    "class PaddingOracle(object):\n",
    "    def query(self, q):\n",
    "        target = TARGET + urllib2.quote(q)    # Create query URL\n",
    "        req = urllib2.Request(target)         # Send HTTP request to server\n",
    "        try:\n",
    "            f = urllib2.urlopen(req)          # Wait for response\n",
    "        except urllib2.HTTPError, e:          \n",
    "            #print \"We got: %d\" % e.code       # Print response code\n",
    "            print('.'),\n",
    "            if e.code == 404:\n",
    "                return True # good padding\n",
    "            return False # bad padding\n",
    "        \n",
    "def strxor(a, b):     # xor two strings of different lengths\n",
    "    if len(a) > len(b):\n",
    "        return \"\".join([chr(ord(x) ^ ord(y)) for (x, y) in zip(a[:len(b)], b)])\n",
    "    else:\n",
    "        return \"\".join([chr(ord(x) ^ ord(y)) for (x, y) in zip(a, b[:len(a)])])\n",
    "        \n",
    "def padForLen(len):\n",
    "    return array.array('B', [x^x^len for x in range(0,len)]).tostring()\n",
    "\n",
    "po = PaddingOracle()\n",
    "\n",
    "plainText = [];\n",
    "\n",
    "for j in range(len(ct)-1,BLOCK_SIZE-1,-1):\n",
    "    chainBytes = ct[j-BLOCK_SIZE:((j-BLOCK_SIZE)/BLOCK_SIZE)*BLOCK_SIZE+BLOCK_SIZE]\n",
    "    pad = padForLen(BLOCK_SIZE-j%BLOCK_SIZE)\n",
    "    for guessByte in range(0,256):\n",
    "        guess = chr(guessByte)+''.join(plainText)\n",
    "        modifiedBytes = strxor(strxor(chainBytes[::-1],pad[::-1]),guess[::-1])[::-1]\n",
    "        query = ct[0:len(ct)-len(modifiedBytes)]+modifiedBytes\n",
    "        \n",
    "        if guessByte == 0:\n",
    "            print('chainbytes:\\t'+chainBytes.encode('hex'))\n",
    "            print('pad:\\t'+pad.encode('hex'))\n",
    "            print('guess:\\t'+guess.encode('hex'))\n",
    "            print('XORED:\\t'+modifiedBytes.encode('hex'))\n",
    "            print('query:\\t'+query[len(query)-16:len(query)].encode('hex'))\n",
    "\n",
    "        if j >=61:\n",
    "            if po.query(query.encode('hex')):\n",
    "                print('\\n Plaintext recovered:'+chr(guessByte).encode('hex'))\n",
    "                plainText.insert(0,chr(guessByte))\n",
    "                break\n",
    "        #print('query:'+query.encode('hex'))\n",
    "        #padForLen(numPadBytes)  \n",
    "        \n",
    "#print(po.query(ciphertext))"
   ]
  },
  {
   "cell_type": "code",
   "execution_count": 115,
   "metadata": {
    "collapsed": false
   },
   "outputs": [
    {
     "data": {
      "text/plain": [
       "'p'"
      ]
     },
     "execution_count": 115,
     "metadata": {},
     "output_type": "execute_result"
    }
   ],
   "source": [
    "'\\x70'"
   ]
  },
  {
   "cell_type": "code",
   "execution_count": 110,
   "metadata": {
    "collapsed": false
   },
   "outputs": [
    {
     "data": {
      "text/plain": [
       "'>'"
      ]
     },
     "execution_count": 110,
     "metadata": {},
     "output_type": "execute_result"
    }
   ],
   "source": [
    "'\\x3e'"
   ]
  },
  {
   "cell_type": "code",
   "execution_count": 27,
   "metadata": {
    "collapsed": false
   },
   "outputs": [],
   "source": [
    "a = []"
   ]
  },
  {
   "cell_type": "code",
   "execution_count": 33,
   "metadata": {
    "collapsed": false
   },
   "outputs": [
    {
     "data": {
      "text/plain": [
       "[3, 2, 2]"
      ]
     },
     "execution_count": 33,
     "metadata": {},
     "output_type": "execute_result"
    }
   ],
   "source": [
    "a.insert(0,3)\n",
    "a"
   ]
  },
  {
   "cell_type": "code",
   "execution_count": 11,
   "metadata": {
    "collapsed": false
   },
   "outputs": [
    {
     "data": {
      "text/plain": [
       "'c8'"
      ]
     },
     "execution_count": 11,
     "metadata": {},
     "output_type": "execute_result"
    }
   ],
   "source": [
    "chain = 'c0'.decode('hex')\n",
    "pad = '01'.decode('hex')\n",
    "guess = '09'.decode('hex')\n",
    "strxor(strxor(chain,pad),guess).encode('hex')"
   ]
  },
  {
   "cell_type": "code",
   "execution_count": 12,
   "metadata": {
    "collapsed": false
   },
   "outputs": [
    {
     "name": "stdout",
     "output_type": "stream",
     "text": [
      ". True\n"
     ]
    }
   ],
   "source": [
    "result = po.query('f20bdba6ff29eed7b046d1df9fb7000058b1ffb4210a580f748b4ac714c001bd4a61044426fb515dad3f21f18aa577c8bdf302936266926ff37dbf7035d5eeb4')\n",
    "print(result)"
   ]
  },
  {
   "cell_type": "code",
   "execution_count": null,
   "metadata": {
    "collapsed": true
   },
   "outputs": [],
   "source": [
    "po.query(query.encode('hex')"
   ]
  }
 ],
 "metadata": {
  "kernelspec": {
   "display_name": "Python 2",
   "language": "python",
   "name": "python2"
  },
  "language_info": {
   "codemirror_mode": {
    "name": "ipython",
    "version": 2
   },
   "file_extension": ".py",
   "mimetype": "text/x-python",
   "name": "python",
   "nbconvert_exporter": "python",
   "pygments_lexer": "ipython2",
   "version": "2.7.9"
  }
 },
 "nbformat": 4,
 "nbformat_minor": 0
}
