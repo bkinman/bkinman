{
 "cells": [
  {
   "cell_type": "markdown",
   "metadata": {},
   "source": [
    "## Cryptography 1 - Week 3 Programming Assignment \n",
    "###Brandon Kinman, 5/24/2015###"
   ]
  },
  {
   "cell_type": "markdown",
   "metadata": {},
   "source": [
    "The problem description for this assignment is provided in the same directory as this .ipynb file.\n",
    "\n",
    "Let us first start by testing out PyCrypto's SHA256 function."
   ]
  },
  {
   "cell_type": "code",
   "execution_count": 7,
   "metadata": {
    "collapsed": false
   },
   "outputs": [
    {
     "name": "stdout",
     "output_type": "stream",
     "text": [
      "2bb80d537b1da3e38bd30361aa855686bde0eacd7162fef6a25fe97bf527a25b\n"
     ]
    }
   ],
   "source": [
    "from Crypto.Hash import SHA256\n",
    "\n",
    "hash = SHA256.new()\n",
    "hash.update('secret')\n",
    "print(hash.digest().encode('hex'))"
   ]
  },
  {
   "cell_type": "markdown",
   "metadata": {},
   "source": [
    "As you can see, this seems to output the correct results. Let us now open the movie file to which we would like to add authenticity."
   ]
  },
  {
   "cell_type": "code",
   "execution_count": 15,
   "metadata": {
    "collapsed": false
   },
   "outputs": [],
   "source": [
    "fname = '2.mp4'\n",
    "movieFile = open(fname,'r')"
   ]
  },
  {
   "cell_type": "markdown",
   "metadata": {},
   "source": [
    "Let us also open a new file to write to, which will contain the original file, but with modification."
   ]
  },
  {
   "cell_type": "code",
   "execution_count": 12,
   "metadata": {
    "collapsed": true
   },
   "outputs": [],
   "source": [
    "hashedOutputFile = open('hashed_output.bin','w')"
   ]
  },
  {
   "cell_type": "markdown",
   "metadata": {},
   "source": [
    "Now we will create a Generator, which will allow us to loop through the file, one block at a time."
   ]
  },
  {
   "cell_type": "code",
   "execution_count": 21,
   "metadata": {
    "collapsed": false
   },
   "outputs": [],
   "source": [
    "def getBlocksFromFile(file_object,chunk_size=1024):\n",
    "    while True:\n",
    "        data = file_object.read(chunk_size)\n",
    "        if not data:\n",
    "            break\n",
    "        yield data"
   ]
  },
  {
   "cell_type": "markdown",
   "metadata": {},
   "source": [
    "Oh, but wait.... We need to loop through the file from the last block to the first... We will need a different and more complicated generator for this."
   ]
  },
  {
   "cell_type": "code",
   "execution_count": 75,
   "metadata": {
    "collapsed": false
   },
   "outputs": [],
   "source": [
    "import os\n",
    "\n",
    "def getBlocksFromEndOfFile(file_object,chunk_size=1024):\n",
    "    num_complete_chunks = os.fstat(file_object.fileno()).st_size/chunk_size\n",
    "    incomplete_chunk_bytes = os.fstat(file_object.fileno()).st_size - num_chunks*chunk_size\n",
    "    \n",
    "    while num_complete_chunks or incomplete_chunk_bytes:\n",
    "        chunk = ''\n",
    "        if incomplete_chunk_bytes:\n",
    "            file_object.seek(chunk_size*num_complete_chunks)\n",
    "            chunk = file_object.read(incomplete_chunk_bytes)\n",
    "            incomplete_chunk_bytes = 0\n",
    "        else:\n",
    "            file_object.seek(chunk_size*(num_complete_chunks-1))\n",
    "            chunk = file_object.read(chunk_size)\n",
    "            num_complete_chunks -= 1\n",
    "        \n",
    "        yield chunk"
   ]
  },
  {
   "cell_type": "markdown",
   "metadata": {},
   "source": [
    "Now we will try to compute the final output:"
   ]
  },
  {
   "cell_type": "code",
   "execution_count": 108,
   "metadata": {
    "collapsed": false
   },
   "outputs": [
    {
     "name": "stdout",
     "output_type": "stream",
     "text": [
      "03c08f4ee0b576fe319338139c045c89c3e8e9409633bea29442e21425006ea8\n"
     ]
    }
   ],
   "source": [
    "prevHash = ''\n",
    "\n",
    "for block in getBlocksFromEndOfFile(movieFile):\n",
    "    hash = SHA256.new()\n",
    "    hash.update(block+prevHash)\n",
    "    prevHash = hash.digest()\n",
    "    \n",
    "print(prevHash.encode('hex'))"
   ]
  },
  {
   "cell_type": "markdown",
   "metadata": {},
   "source": [
    "We can indeed see that the above yeilds the correct result, as given in the problem description. Let us now compute the final result for the other movie file."
   ]
  },
  {
   "cell_type": "code",
   "execution_count": 109,
   "metadata": {
    "collapsed": false
   },
   "outputs": [
    {
     "name": "stdout",
     "output_type": "stream",
     "text": [
      "5b96aece304a1422224f9a41b228416028f9ba26b0d1058f400200f06a589949\n"
     ]
    }
   ],
   "source": [
    "movieFile = open('1.mp4','r')\n",
    "\n",
    "prevHash = ''\n",
    "\n",
    "for block in getBlocksFromEndOfFile(movieFile):\n",
    "    hash = SHA256.new()\n",
    "    hash.update(block+prevHash)\n",
    "    prevHash = hash.digest()\n",
    "    \n",
    "print(prevHash.encode('hex'))"
   ]
  },
  {
   "cell_type": "markdown",
   "metadata": {},
   "source": [
    "After submitting the assignment, we can see that this was indeed the correct result."
   ]
  }
 ],
 "metadata": {
  "kernelspec": {
   "display_name": "Python 2",
   "language": "python",
   "name": "python2"
  },
  "language_info": {
   "codemirror_mode": {
    "name": "ipython",
    "version": 2
   },
   "file_extension": ".py",
   "mimetype": "text/x-python",
   "name": "python",
   "nbconvert_exporter": "python",
   "pygments_lexer": "ipython2",
   "version": "2.7.9"
  }
 },
 "nbformat": 4,
 "nbformat_minor": 0
}
