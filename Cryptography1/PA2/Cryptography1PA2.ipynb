{
 "cells": [
  {
   "cell_type": "markdown",
   "metadata": {},
   "source": [
    "## Cryptography 1 - Week 2 Programming Assignment \n",
    "###Brandon Kinman, 5/15/2015###"
   ]
  },
  {
   "cell_type": "markdown",
   "metadata": {},
   "source": [
    "###Question 1\n",
    "Here we are looking to use AES-128 in CBC mode to decrypt some CBC ciphertext, and given a key. The IV has been pre-appended to the ciphertext."
   ]
  },
  {
   "cell_type": "code",
   "execution_count": 1,
   "metadata": {
    "collapsed": false
   },
   "outputs": [],
   "source": [
    "q1CBCKey = '140b41b22a29beb4061bda66b6747e14'.decode('hex')\n",
    "q1CBCCipherText = '4ca00ff4c898d61e1edbf1800618fb2828a226d1\\\n",
    "60dad07883d04e008a7897ee2e4b7465d5290d0c0e6c6822236e1daafb94\\\n",
    "ffe0c5da05d9476be028ad7c1d81'.decode('hex')"
   ]
  },
  {
   "cell_type": "markdown",
   "metadata": {},
   "source": [
    "###Question 1 solution\n",
    "We will begin by determining the correct answer, using PyCrypt's CBC construct, so that we may save ourselves somt time. We will then attempt to create our own CBC construct, using CBC in ECB mode."
   ]
  },
  {
   "cell_type": "code",
   "execution_count": 4,
   "metadata": {
    "collapsed": false
   },
   "outputs": [
    {
     "name": "stdout",
     "output_type": "stream",
     "text": [
      "Basic CBC mode encryption needs padding.\b\b\b\b\b\b\b\b\n"
     ]
    }
   ],
   "source": [
    "from Crypto.Cipher import AES\n",
    "\n",
    "obj = AES.new(q1CBCKey,\\\n",
    "              AES.MODE_CBC,\\\n",
    "              q1CBCCipherText[0:16])\n",
    "\n",
    "print(obj.decrypt(q1CBCCipherText[16:]))"
   ]
  },
  {
   "cell_type": "markdown",
   "metadata": {},
   "source": [
    "Now, let us try to obtain this result by \"rolling our own\" CBC using ECB."
   ]
  },
  {
   "cell_type": "code",
   "execution_count": 5,
   "metadata": {
    "collapsed": false
   },
   "outputs": [
    {
     "name": "stdout",
     "output_type": "stream",
     "text": [
      "Basic CBC mode encryption needs padding.\b\b\b\b\b\b\b\b\n"
     ]
    }
   ],
   "source": [
    "import textwrap\n",
    "\n",
    "def strxor(a, b):     # xor two strings of different lengths\n",
    "    if len(a) > len(b):\n",
    "        return \"\".join([chr(ord(x) ^ ord(y)) for (x, y) in zip(a[:len(b)], b)])\n",
    "    else:\n",
    "        return \"\".join([chr(ord(x) ^ ord(y)) for (x, y) in zip(a, b[:len(a)])])\n",
    "\n",
    "def decryptAESCBC(key,ciphertext):\n",
    "    cipher = AES.new(key,AES.MODE_ECB)\n",
    "    chunkList = []\n",
    "    plainText = ''\n",
    "    \n",
    "    for i in range(0,len(ciphertext),16):\n",
    "        chunkList += [ciphertext[i:i+16]]\n",
    "        \n",
    "    for i in range(1,len(chunkList)):\n",
    "        plainText += strxor(chunkList[i-1],cipher.decrypt(chunkList[i]))\n",
    "    return plainText\n",
    "            \n",
    "print(decryptAESCBC(q1CBCKey, q1CBCCipherText))"
   ]
  },
  {
   "cell_type": "markdown",
   "metadata": {},
   "source": [
    "## Question 2\n",
    "Question 2 is much the same... We can should be able to use the functions we have already written."
   ]
  },
  {
   "cell_type": "code",
   "execution_count": 6,
   "metadata": {
    "collapsed": false,
    "scrolled": true
   },
   "outputs": [
    {
     "name": "stdout",
     "output_type": "stream",
     "text": [
      "Our implementation uses rand. IV\u0010\u0010\u0010\u0010\u0010\u0010\u0010\u0010\u0010\u0010\u0010\u0010\u0010\u0010\u0010\u0010\n"
     ]
    }
   ],
   "source": [
    "q2CBCKey = '140b41b22a29beb4061bda66b6747e14'.decode('hex')\n",
    "q2CBCCipherText = '5b68629feb8606f9a6667670b75b38a5b4832d0f26e1ab7da33249de7d4afc48\\\n",
    "e713ac646ace36e872ad5fb8a512428a6e21364b0c374df45503473c5242a253'.decode('hex')\n",
    "\n",
    "print(decryptAESCBC(q2CBCKey,q2CBCCipherText))"
   ]
  },
  {
   "cell_type": "markdown",
   "metadata": {},
   "source": [
    "##Question 3\n",
    "For question 3, we need to implement AES-128-CTR mode."
   ]
  },
  {
   "cell_type": "code",
   "execution_count": 56,
   "metadata": {
    "collapsed": false,
    "scrolled": true
   },
   "outputs": [
    {
     "data": {
      "text/plain": [
       "'CTR mode lets you build a stream cipher from a block cipher.'"
      ]
     },
     "execution_count": 56,
     "metadata": {},
     "output_type": "execute_result"
    }
   ],
   "source": [
    "q3CTRKey = '36f18357be4dbd77f050515c73fcf9f2'.decode('hex')\n",
    "q3CTRCipherText = '69dda8455c7dd4254bf353b773304eec0ec7702330098ce7f7520d1cbbb20fc3\\\n",
    "88d1b0adb5054dbd7370849dbf0b88d393f252e764f1f5f7ad97ef79d59ce29f5f51eeca32eabedd9afa9329'.decode('hex')\n",
    "\n",
    "def decryptAESCTR(key,ciphertext):\n",
    "    cipher = AES.new(key,AES.MODE_ECB)\n",
    "    iv = ciphertext[0:16].encode('hex')\n",
    "    ctr = Counter.new(128,initial_value=int(iv,16))\n",
    "    ciphertext = ciphertext[16:]\n",
    "    plaintext = ''\n",
    "    \n",
    "    for i in range(0,len(ciphertext),16):\n",
    "        plaintext += strxor(ciphertext[i:i+16],cipher.encrypt(ctr()))\n",
    "    return plaintext\n",
    "\n",
    "decryptAESCTR(q3CTRKey,q3CTRCipherText)"
   ]
  },
  {
   "cell_type": "markdown",
   "metadata": {},
   "source": [
    "##Question 4\n",
    "Once again, with the AES-128-CTR."
   ]
  },
  {
   "cell_type": "code",
   "execution_count": 57,
   "metadata": {
    "collapsed": false
   },
   "outputs": [
    {
     "data": {
      "text/plain": [
       "'Always avoid the two time pad!'"
      ]
     },
     "execution_count": 57,
     "metadata": {},
     "output_type": "execute_result"
    }
   ],
   "source": [
    "q4CTRKey = '36f18357be4dbd77f050515c73fcf9f2'.decode('hex')\n",
    "q4CTRCipherText = '770b80259ec33beb2561358a9f2dc617e46218c0a53cbeca695ae45faa8952aa\\\n",
    "0e311bde9d4e01726d3184c34451'.decode('hex')\n",
    "\n",
    "decryptAESCTR(q4CTRKey,q4CTRCipherText)"
   ]
  },
  {
   "cell_type": "code",
   "execution_count": 51,
   "metadata": {
    "collapsed": false
   },
   "outputs": [
    {
     "name": "stdout",
     "output_type": "stream",
     "text": [
      "CTR mode lets you build a stream cipher from a block cipher.\n"
     ]
    }
   ],
   "source": [
    "iv = q3CTRCipherText[0:16].encode('hex')\n",
    "ctr = Counter.new(128,initial_value=int(iv,16))\n",
    "print(AES.new(q3CTRKey, AES.MODE_CTR, counter=ctr).decrypt(q3CTRCipherText[16:]))"
   ]
  }
 ],
 "metadata": {
  "kernelspec": {
   "display_name": "Python 2",
   "language": "python",
   "name": "python2"
  },
  "language_info": {
   "codemirror_mode": {
    "name": "ipython",
    "version": 2
   },
   "file_extension": ".py",
   "mimetype": "text/x-python",
   "name": "python",
   "nbconvert_exporter": "python",
   "pygments_lexer": "ipython2",
   "version": "2.7.9"
  }
 },
 "nbformat": 4,
 "nbformat_minor": 0
}
