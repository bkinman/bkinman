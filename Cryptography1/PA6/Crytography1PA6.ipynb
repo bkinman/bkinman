{
 "cells": [
  {
   "cell_type": "markdown",
   "metadata": {},
   "source": [
    "## Cryptography 1 - Week 6 Programming Assignment \n",
    "###Brandon Kinman, 6/16/2015###\n",
    "\n",
    "###Problem Description\n",
    "\n",
    "####Challenge 1####\n",
    "Given modulus $N$ is $p*q$, where $|p-q|<2N^{1/4}$, find the smaller of two factors and enter as an integer."
   ]
  },
  {
   "cell_type": "code",
   "execution_count": 3,
   "metadata": {
    "collapsed": false
   },
   "outputs": [],
   "source": [
    "import gmpy2\n",
    "\n",
    "N = gmpy2.mpz('17976931348623159077293051907890247336179769789423065727343008115\\\n",
    "    77326758055056206869853794492129829595855013875371640157101398586\\\n",
    "    47833778606925583497541085196591615128057575940752635007475935288\\\n",
    "    71082364994994077189561705436114947486504671101510156394068052754\\\n",
    "    0071584560878577663743040086340742855278549092581')"
   ]
  },
  {
   "cell_type": "markdown",
   "metadata": {},
   "source": [
    "Let us start by saying that we know $A = ceil(\\sqrt{N})$ (Given in challenge description).\n",
    "\n"
   ]
  },
  {
   "cell_type": "code",
   "execution_count": 57,
   "metadata": {
    "collapsed": false
   },
   "outputs": [],
   "source": [
    "A = gmpy2.isqrt(N)\n",
    "if gmpy2.powmod(A,2,N) != N:\n",
    "    A += 1    "
   ]
  },
  {
   "cell_type": "markdown",
   "metadata": {},
   "source": [
    "We also know that $x=\\sqrt{A^2-N}$."
   ]
  },
  {
   "cell_type": "code",
   "execution_count": 83,
   "metadata": {
    "collapsed": false
   },
   "outputs": [],
   "source": [
    "x = gmpy2.isqrt(A**2-N)"
   ]
  },
  {
   "cell_type": "markdown",
   "metadata": {},
   "source": [
    "Lastly, we know that $N = p*q = (A-x)*(A+x)$, thus the smaller of the primes is the following:"
   ]
  },
  {
   "cell_type": "code",
   "execution_count": 88,
   "metadata": {
    "collapsed": false
   },
   "outputs": [
    {
     "name": "stdout",
     "output_type": "stream",
     "text": [
      "13407807929942597099574024998205846127479365820592393377723561443721764030073662768891111614362326998675040546094339320838419523375986027530441562135724301\n"
     ]
    }
   ],
   "source": [
    "print((A-x))"
   ]
  },
  {
   "cell_type": "markdown",
   "metadata": {},
   "source": [
    "####Challenge 2####\n",
    "The following modulus $N$ is a products of two primes $p$ and $q$ where $|p−q|<2^{11}N^{1/4}$.\n",
    "\n",
    "Find the smaller of the two factors and enter it as a decimal integer.\n",
    "\n",
    "Hint: in this case $A−\\sqrt{N}<2^{20}$ so try scanning for A from $\\sqrt{N}$ upwards, until you succeed in factoring $N$. "
   ]
  },
  {
   "cell_type": "code",
   "execution_count": 92,
   "metadata": {
    "collapsed": true
   },
   "outputs": [],
   "source": [
    "N = gmpy2.mpz('6484558428080716696628242653467722787263437207069762630604390703787 \\\n",
    "    9730861808111646271401527606141756919558732184025452065542490671989 \\\n",
    "    2428844841839353281972988531310511738648965962582821502504990264452 \\\n",
    "    1008852816733037111422964210278402893076574586452336833570778346897 \\\n",
    "    15838646088239640236866252211790085787877')"
   ]
  },
  {
   "cell_type": "code",
   "execution_count": 95,
   "metadata": {
    "collapsed": true
   },
   "outputs": [],
   "source": [
    "amin = gmpy2.isqrt(N)\n",
    "if gmpy2.powmod(A,2,N) != N:\n",
    "    amin += 1\n",
    "amax = amin + gmpy2.powmod(2,20,N)"
   ]
  },
  {
   "cell_type": "code",
   "execution_count": 98,
   "metadata": {
    "collapsed": false
   },
   "outputs": [
    {
     "name": "stdout",
     "output_type": "stream",
     "text": [
      "25464796146996183438008816563973942229341454268524157846328581927885777969985222835143851073249573454107384461557193173304497244814071505790566593206419759\n"
     ]
    }
   ],
   "source": [
    "atest = amin\n",
    "while atest < amax:\n",
    "    x = gmpy2.isqrt(atest**2-N)\n",
    "    if (atest-x)*(atest+x) == N:\n",
    "        print(atest-x)\n",
    "        break;\n",
    "    atest += 1"
   ]
  },
  {
   "cell_type": "markdown",
   "metadata": {},
   "source": [
    "#### Challenge 4####"
   ]
  },
  {
   "cell_type": "code",
   "execution_count": 114,
   "metadata": {
    "collapsed": false
   },
   "outputs": [],
   "source": [
    "N = gmpy2.mpz('17976931348623159077293051907890247336179769789423065727343008115\\\n",
    "    77326758055056206869853794492129829595855013875371640157101398586\\\n",
    "    47833778606925583497541085196591615128057575940752635007475935288\\\n",
    "    71082364994994077189561705436114947486504671101510156394068052754\\\n",
    "    0071584560878577663743040086340742855278549092581')\n",
    "c = gmpy2.mpz('22096451867410381776306561134883418017410069787892831071731839143676135600120538004282329650473509424343946219751512256465839967942889460764542040581564748988013734864120452325229320176487916666402997509188729971690526083222067771600019329260870009579993724077458967773697817571267229951148662959627934791540')\n",
    "\n",
    "A = gmpy2.isqrt(N)\n",
    "if gmpy2.powmod(A,2,N) != N:\n",
    "    A += 1    \n",
    "x = gmpy2.isqrt(A**2-N)\n",
    "p = A-x\n",
    "q = A+x\n",
    "phi_N = (p-1)*(q-1)\n",
    "e = gmpy2.mpz('65537')\n",
    "d = gmpy2.invert(e,phi_N)"
   ]
  },
  {
   "cell_type": "code",
   "execution_count": 113,
   "metadata": {
    "collapsed": false
   },
   "outputs": [
    {
     "name": "stdout",
     "output_type": "stream",
     "text": [
      "0x20805907610b524330594e51d5dbbf643f09603731e9817111392d0c64e2739959a092d4daf979d387520ea7e577af9eb50a29f736925e810ab2fb4640e091a0f73252cb669d5b62b26764190ed188239fe71e1a7cb9e935d2db55c98b024e1dae46d00466163746f72696e67206c65747320757320627265616b205253412e\n"
     ]
    }
   ],
   "source": [
    "print(hex(gmpy2.powmod(c,d,N)))"
   ]
  },
  {
   "cell_type": "code",
   "execution_count": 116,
   "metadata": {
    "collapsed": false
   },
   "outputs": [
    {
     "data": {
      "text/plain": [
       "'\\x18\\x829\\xfeq\\xe1\\xa7\\xcb\\x9e\\x93]-\\xb5\\\\\\x98\\xb0$\\xe1\\xda\\xe4m\\x00Factoring lets us break RSA.'"
      ]
     },
     "execution_count": 116,
     "metadata": {},
     "output_type": "execute_result"
    }
   ],
   "source": [
    "'188239fe71e1a7cb9e935d2db55c98b024e1dae46d00466163746f72696e67206c65747320757320627265616b205253412e'.decode('hex')"
   ]
  },
  {
   "cell_type": "code",
   "execution_count": null,
   "metadata": {
    "collapsed": true
   },
   "outputs": [],
   "source": []
  }
 ],
 "metadata": {
  "kernelspec": {
   "display_name": "Python 2",
   "language": "python",
   "name": "python2"
  },
  "language_info": {
   "codemirror_mode": {
    "name": "ipython",
    "version": 2
   },
   "file_extension": ".py",
   "mimetype": "text/x-python",
   "name": "python",
   "nbconvert_exporter": "python",
   "pygments_lexer": "ipython2",
   "version": "2.7.9"
  }
 },
 "nbformat": 4,
 "nbformat_minor": 0
}
