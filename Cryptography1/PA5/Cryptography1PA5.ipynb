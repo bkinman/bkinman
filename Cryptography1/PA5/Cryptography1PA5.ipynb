{
 "cells": [
  {
   "cell_type": "markdown",
   "metadata": {},
   "source": [
    "## Cryptography 1 - Week 5 Programming Assignment \n",
    "###Brandon Kinman, 6/7/2015###\n",
    "\n",
    "###Problem Description\n",
    "\n",
    "The goal here is relatively simple; Given $h = g^x$ in $\\mathbb{Z}_p$, find $x$. Also, $x \\in \\{0,1,...,2^{40}\\}$\n",
    "\n",
    "###Solution:###\n",
    "I will be solving this problem using the technique mentioned in the homework... By my calculations, this drops the number of multiplcations required from $\\approx 2^{40}$ down from $\\approx 3\\cdot2^{20}$. This solution relies upon the fact that $\\frac{h}{g^{x_1}}= (g^B)^{x_0} \\in \\mathbb{Z}_p$. More details on the method used here may be found in the PDF document accompanying this file."
   ]
  },
  {
   "cell_type": "code",
   "execution_count": 145,
   "metadata": {
    "collapsed": false,
    "slideshow": {
     "slide_type": "-"
    }
   },
   "outputs": [],
   "source": [
    "import gmpy2\n",
    "def Dlog(p,g,h):\n",
    "    #Step 1, build a hash table of h/(g^(x1))\n",
    "    htbl = {}\n",
    "    B = 2**20\n",
    "    mpz_p = gmpy2.mpz(p)\n",
    "    mpz_g = gmpy2.mpz(g)\n",
    "    mpz_h = gmpy2.mpz(h)\n",
    "    for x1 in range(0,2**20+1):\n",
    "        denom = gmpy2.invert(mpz_g,mpz_p)\n",
    "        denom = gmpy2.powmod(denom,x1,mpz_p)\n",
    "        result = gmpy2.mul(mpz_h,denom)\n",
    "        result = gmpy2.f_mod(result,mpz_p)\n",
    "        htbl[result] = x1\n",
    "    #Step 2, Search through the table, to see if (g^B)^x0 is in the hash table.\n",
    "    for x0 in range(0,2**20+1):\n",
    "        #compute (g^B)^(x0)\n",
    "        g_b = gmpy2.powmod(mpz_g,B,mpz_p)  #g^B\n",
    "        result = gmpy2.powmod(g_b,x0,mpz_p) #(g^B)^(x0)\n",
    "\n",
    "        if result in htbl:\n",
    "            return x0*B+htbl[result]\n",
    "            break\n",
    "    return 0"
   ]
  },
  {
   "cell_type": "code",
   "execution_count": 149,
   "metadata": {
    "collapsed": false
   },
   "outputs": [
    {
     "name": "stdout",
     "output_type": "stream",
     "text": [
      "375374217830\n"
     ]
    }
   ],
   "source": [
    "p = '134078079299425970995740249982058461274793658205923933\\\n",
    "77723561443721764030073546976801874298166903427690031\\\n",
    "858186486050853753882811946569946433649006084171'\n",
    "\n",
    "g = '11717829880366207009516117596335367088558084999998952205\\\n",
    "59997945906392949973658374667057217647146031292859482967\\\n",
    "5428279466566527115212748467589894601965568'\n",
    "\n",
    "h = '323947510405045044356526437872806578864909752095244\\\n",
    "952783479245297198197614329255807385693795855318053\\\n",
    "2878928001494706097394108577585732452307673444020333'\n",
    "\n",
    "print(str(Dlog(p,g,h)))"
   ]
  },
  {
   "cell_type": "markdown",
   "metadata": {
    "collapsed": false
   },
   "source": [
    "As we can see, we have found a solution for the $x$, given $p,g,h$. It's quite likely that this computation can be made much faster by simplifying the computation in the loops... However, On my machine, this runs in ~15 seconds, which makes it good enough :)\n"
   ]
  }
 ],
 "metadata": {
  "kernelspec": {
   "display_name": "Python 2",
   "language": "python",
   "name": "python2"
  },
  "language_info": {
   "codemirror_mode": {
    "name": "ipython",
    "version": 2
   },
   "file_extension": ".py",
   "mimetype": "text/x-python",
   "name": "python",
   "nbconvert_exporter": "python",
   "pygments_lexer": "ipython2",
   "version": "2.7.9"
  }
 },
 "nbformat": 4,
 "nbformat_minor": 0
}
