{
 "cells": [
  {
   "cell_type": "markdown",
   "metadata": {},
   "source": [
    "## Cryptography 1 - Week 5 Programming Assignment \n",
    "###Brandon Kinman, 6/7/2015###\n",
    "\n",
    "###Problem Description\n",
    "\n",
    "The goal here is relatively simple; Given $h = g^x$ in $\\mathbb{Z}_p$, find $x$. Also, $x \\in \\{0,1,...,2^{40}\\}$\n",
    "\n",
    "###Solution:###\n",
    "I will be solving this problem using the technique mentioned in the homework... By my calculations, this drops the number of multiplcations required from $\\approx 2^{40}$ down from $\\approx 3\\cdot2^{20}$."
   ]
  },
  {
   "cell_type": "code",
   "execution_count": 122,
   "metadata": {
    "collapsed": false
   },
   "outputs": [],
   "source": [
    "import gmpy2\n",
    "def Dlog(p,g,h):\n",
    "    #Step 1, build a hash table of h/(g^(x1))\n",
    "    htbl = {}\n",
    "    B = 2**40\n",
    "    mpz_p = gmpy2.mpz(p)\n",
    "    mpz_g = gmpy2.mpz(g)\n",
    "    mpz_h = gmpy2.mpz(h)\n",
    "    for x1 in range(0,2**20+1):\n",
    "        denom = gmpy2.invert(mpz_g,mpz_p)\n",
    "        denom = gmpy2.powmod(denom,x1,mpz_p)\n",
    "        result = gmpy2.mul(mpz_h,denom)\n",
    "        result = gmpy2.f_mod(result,mpz_p)\n",
    "        htbl[result] = x1\n",
    "    #Step 2, Search through the table, to see if (g^B)^x0 is in the hash table.\n",
    "    for x0 in range(0,2**20+1):\n",
    "        #compute (g^B)^(x0)\n",
    "        #g_b = gmpy2.powmod(mpz_g,B,mpz_p)  #g^B\n",
    "        #result = gmpy2.powmod(g_b,x0,mpz_p) #(g^B)^(x0)\n",
    "        \n",
    "        result = pow(pow(mpz_g,B,mpz_p),x0,mpz_p)\n",
    "        if result in htbl:\n",
    "            x1 = htbl[result]\n",
    "            print('x0: '+str(x0))\n",
    "    return"
   ]
  },
  {
   "cell_type": "code",
   "execution_count": 93,
   "metadata": {
    "collapsed": false
   },
   "outputs": [],
   "source": [
    "p = '134078079299425970995740249982058461274793658205923933\\\n",
    "77723561443721764030073546976801874298166903427690031\\\n",
    "858186486050853753882811946569946433649006084171'\n",
    "\n",
    "g = '11717829880366207009516117596335367088558084999998952205\\\n",
    "59997945906392949973658374667057217647146031292859482967\\\n",
    "5428279466566527115212748467589894601965568'\n",
    "\n",
    "h = '323947510405045044356526437872806578864909752095244\\\n",
    "952783479245297198197614329255807385693795855318053\\\n",
    "2878928001494706097394108577585732452307673444020333'"
   ]
  },
  {
   "cell_type": "code",
   "execution_count": 123,
   "metadata": {
    "collapsed": false
   },
   "outputs": [
    {
     "name": "stdout",
     "output_type": "stream",
     "text": [
      "done\n"
     ]
    }
   ],
   "source": [
    "Dlog(p,g,h)\n",
    "print('done')"
   ]
  },
  {
   "cell_type": "code",
   "execution_count": 12,
   "metadata": {
    "collapsed": false
   },
   "outputs": [],
   "source": [
    "a = {'key':1}"
   ]
  },
  {
   "cell_type": "code",
   "execution_count": 17,
   "metadata": {
    "collapsed": false
   },
   "outputs": [
    {
     "name": "stdout",
     "output_type": "stream",
     "text": [
      "hi\n"
     ]
    }
   ],
   "source": [
    "try:\n",
    "    a['foo']\n",
    "except KeyError:\n",
    "    print('hi')"
   ]
  },
  {
   "cell_type": "code",
   "execution_count": 37,
   "metadata": {
    "collapsed": false
   },
   "outputs": [],
   "source": [
    "a['bar'] = 2"
   ]
  },
  {
   "cell_type": "code",
   "execution_count": 38,
   "metadata": {
    "collapsed": false
   },
   "outputs": [
    {
     "data": {
      "text/plain": [
       "2"
      ]
     },
     "execution_count": 38,
     "metadata": {},
     "output_type": "execute_result"
    }
   ],
   "source": [
    "len(a)"
   ]
  },
  {
   "cell_type": "code",
   "execution_count": 92,
   "metadata": {
    "collapsed": false
   },
   "outputs": [
    {
     "name": "stdout",
     "output_type": "stream",
     "text": [
      ":::1246316080538150466592559392572131572381901687252739956003882491596536497207245397896531046537149651354387141843616229764246319982269247306310739886111482\n",
      "Hash table created!\n",
      "Result:  787046 357984 375374217830\n"
     ]
    }
   ],
   "source": [
    "p=gmpy2.mpz(13407807929942597099574024998205846127479365820592393377723561443721764030073546976801874298166903427690031858186486050853753882811946569946433649006084171)\n",
    "g=gmpy2.mpz(11717829880366207009516117596335367088558084999998952205599979459063929499736583746670572176471460312928594829675428279466566527115212748467589894601965568)\n",
    "h=gmpy2.mpz(3239475104050450443565264378728065788649097520952449527834792452971981976143292558073856937958553180532878928001494706097394108577585732452307673444020333)\n",
    "\n",
    "hTable = {}\n",
    "\n",
    "def go():\n",
    "    i = gmpy2.mpz(0)\n",
    "    j = gmpy2.mpz(0)\n",
    "    gI = gmpy2.invert(g,p)\n",
    "    B = pow(2,20)\n",
    "    gC = pow(g,B,p)\n",
    "    while i <= B:\n",
    "        hTable[(h * pow(gI, i, p)) % p]=i\n",
    "        if i == 1000:\n",
    "            print(':::'+str((h * pow(gI, i, p)) % p))\n",
    "        i = i + 1\n",
    "    print(\"Hash table created!\")\n",
    "    while j <= B:\n",
    "        rhs = pow(gC, j, p)\n",
    "        if rhs in hTable:\n",
    "            i=hTable[rhs]\n",
    "            break\n",
    "        j = j + 1\n",
    "    print \"Result: \",i,j,j*B+i\n",
    "go()"
   ]
  },
  {
   "cell_type": "code",
   "execution_count": null,
   "metadata": {
    "collapsed": true
   },
   "outputs": [],
   "source": []
  }
 ],
 "metadata": {
  "kernelspec": {
   "display_name": "Python 2",
   "language": "python",
   "name": "python2"
  },
  "language_info": {
   "codemirror_mode": {
    "name": "ipython",
    "version": 2
   },
   "file_extension": ".py",
   "mimetype": "text/x-python",
   "name": "python",
   "nbconvert_exporter": "python",
   "pygments_lexer": "ipython2",
   "version": "2.7.9"
  }
 },
 "nbformat": 4,
 "nbformat_minor": 0
}
